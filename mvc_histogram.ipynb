{
 "cells": [
  {
   "cell_type": "code",
   "execution_count": null,
   "id": "5b3d3ba7",
   "metadata": {},
   "outputs": [],
   "source": [
    "from ndv.controller._controller import HistogramController\n",
    "from ndv.data import cells3d\n",
    "from ndv.models._stats import Stats\n",
    "\n",
    "viewer = HistogramController()\n",
    "viewer.stats = Stats(cells3d())\n",
    "\n",
    "viewer.show()"
   ]
  },
  {
   "cell_type": "code",
   "execution_count": null,
   "id": "595ad5fd",
   "metadata": {},
   "outputs": [],
   "source": [
    "from ndv.models import LUTModel\n",
    "\n",
    "# Attach a LUTModel\n",
    "lut_model = LUTModel(\n",
    "    cmap=\"green\",\n",
    "    clims=[10000, 30000],\n",
    "    gamma=2,\n",
    ")\n",
    "viewer.lut = lut_model"
   ]
  },
  {
   "cell_type": "code",
   "execution_count": null,
   "id": "b89c3578",
   "metadata": {},
   "outputs": [],
   "source": [
    "# Update the LUTModel\n",
    "lut_model.cmap = \"blue\""
   ]
  },
  {
   "cell_type": "code",
   "execution_count": null,
   "id": "fc02ab5d",
   "metadata": {},
   "outputs": [],
   "source": [
    "# Attach a different LUTModel\n",
    "lut_model = LUTModel(\n",
    "    cmap=\"yellow\",\n",
    "    clims=[0, 10000],\n",
    "    gamma=0.2,\n",
    ")\n",
    "viewer.lut = lut_model"
   ]
  },
  {
   "cell_type": "code",
   "execution_count": null,
   "id": "62b10926",
   "metadata": {},
   "outputs": [],
   "source": [
    "# Detach the LUTModel\n",
    "viewer.lut = None"
   ]
  }
 ],
 "metadata": {
  "kernelspec": {
   "display_name": "Python 3 (ipykernel)",
   "language": "python",
   "name": "python3"
  },
  "language_info": {
   "codemirror_mode": {
    "name": "ipython",
    "version": 3
   },
   "file_extension": ".py",
   "mimetype": "text/x-python",
   "name": "python",
   "nbconvert_exporter": "python",
   "pygments_lexer": "ipython3",
   "version": "3.12.7"
  }
 },
 "nbformat": 4,
 "nbformat_minor": 5
}
