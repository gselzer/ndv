{
 "cells": [
  {
   "cell_type": "code",
   "execution_count": null,
   "id": "5b3d3ba7",
   "metadata": {},
   "outputs": [],
   "source": [
    "from ndv.controller._controller import HistogramController\n",
    "from ndv.data import cells3d\n",
    "\n",
    "viewer = HistogramController()\n",
    "viewer.data = cells3d()\n",
    "\n",
    "viewer.view().show()"
   ]
  },
  {
   "cell_type": "code",
   "execution_count": null,
   "id": "595ad5fd",
   "metadata": {},
   "outputs": [],
   "source": [
    "# Change the data\n",
    "from numpy.random import normal\n",
    "\n",
    "shape = viewer.data.shape\n",
    "viewer.data = normal(30000, 10000, shape)"
   ]
  }
 ],
 "metadata": {
  "kernelspec": {
   "display_name": "Python 3 (ipykernel)",
   "language": "python",
   "name": "python3"
  },
  "language_info": {
   "codemirror_mode": {
    "name": "ipython",
    "version": 3
   },
   "file_extension": ".py",
   "mimetype": "text/x-python",
   "name": "python",
   "nbconvert_exporter": "python",
   "pygments_lexer": "ipython3",
   "version": "3.12.7"
  }
 },
 "nbformat": 4,
 "nbformat_minor": 5
}
